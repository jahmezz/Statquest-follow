{
 "cells": [
  {
   "cell_type": "code",
   "execution_count": 33,
   "metadata": {},
   "outputs": [
    {
     "data": {
      "text/plain": [
       "array(['0.0', '3.0', '2.0', '1.0'], dtype=object)"
      ]
     },
     "execution_count": 33,
     "metadata": {},
     "output_type": "execute_result"
    }
   ],
   "source": [
    "import pandas as pd\n",
    "import numpy as np\n",
    "import matplotlib.pyplot as plt\n",
    "from sklearn.tree import DecisionTreeClassifier\n",
    "from sklearn.tree import plot_tree\n",
    "from sklearn.model_selection import train_test_split\n",
    "from sklearn.model_selection import cross_val_score\n",
    "from sklearn.metrics import confusion_matrix\n",
    "\n",
    "df = pd.read_csv('processed.cleveland.data',\n",
    "                 header=None)\n",
    "\n",
    "# df = pd.read_csv('https://archive.ics.uci.edu/ml/machine-learning-databases/heart-disease/processed.cleveland.data', header=None)\n",
    "\n",
    "\n",
    "\n",
    "df.columns = ['age',\n",
    "             'sex',\n",
    "             'cp',\n",
    "             'restbp',\n",
    "             'chol',\n",
    "             'fbs',\n",
    "             'restecg',\n",
    "             'thalach',\n",
    "             'exang',\n",
    "             'oldpeak',\n",
    "             'slope',\n",
    "             'ca',\n",
    "             'thal',\n",
    "             'hd']\n",
    "df['thal'].unique()\n",
    "\n",
    "df.loc[(df['ca'] == '?') | (df['thal'] == '?')]\n",
    "\n",
    "df_no_missing = df.loc[(df['ca'] != '?')\n",
    "                      &\n",
    "                      (df['thal'] != '?')]\n",
    "\n",
    "df_no_missing['ca'].unique()\n",
    "\n"
   ]
  }
 ],
 "metadata": {
  "kernelspec": {
   "display_name": "Python 3 (ipykernel)",
   "language": "python",
   "name": "python3"
  },
  "language_info": {
   "codemirror_mode": {
    "name": "ipython",
    "version": 3
   },
   "file_extension": ".py",
   "mimetype": "text/x-python",
   "name": "python",
   "nbconvert_exporter": "python",
   "pygments_lexer": "ipython3",
   "version": "3.10.9"
  }
 },
 "nbformat": 4,
 "nbformat_minor": 2
}
